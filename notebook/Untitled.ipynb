{
 "cells": [
  {
   "cell_type": "code",
   "execution_count": 1,
   "id": "02f488ed",
   "metadata": {},
   "outputs": [],
   "source": [
    "import lightgbm as lgb\n",
    "import xgboost as xgb \n",
    "from sklearn.ensemble import GradientBoostingRegressor\n",
    "from sklearn.model_selection import RandomizedSearchCV\n",
    "from kneed import KneeLocator\n",
    "from sklearn.cluster import KMeans\n",
    "\n",
    "import pandas as pd"
   ]
  },
  {
   "cell_type": "code",
   "execution_count": 2,
   "id": "dbcbad66",
   "metadata": {},
   "outputs": [],
   "source": [
    "train = pd.read_csv('train.csv')\n",
    "x_train = train.drop(\"total_amount\",axis=1)"
   ]
  },
  {
   "cell_type": "code",
   "execution_count": 29,
   "id": "a9732620",
   "metadata": {},
   "outputs": [],
   "source": [
    "wcss = []\n",
    "\n",
    "for i in range(1,5):\n",
    "    kmean = KMeans(i,random_state=47)\n",
    "    kmean.fit(x_train)\n",
    "    wcss.append(kmean.inertia_)"
   ]
  },
  {
   "cell_type": "code",
   "execution_count": 5,
   "id": "58a5082d",
   "metadata": {},
   "outputs": [],
   "source": [
    "d = pd.DataFrame()"
   ]
  },
  {
   "cell_type": "code",
   "execution_count": 9,
   "id": "c272f2a3",
   "metadata": {},
   "outputs": [
    {
     "data": {
      "text/plain": [
       "0"
      ]
     },
     "execution_count": 9,
     "metadata": {},
     "output_type": "execute_result"
    }
   ],
   "source": [
    "len(d)"
   ]
  },
  {
   "cell_type": "code",
   "execution_count": 11,
   "id": "a1cb8d54",
   "metadata": {},
   "outputs": [
    {
     "name": "stdout",
     "output_type": "stream",
     "text": [
      "yes\n"
     ]
    }
   ],
   "source": [
    "if not len(d):\n",
    "    print('yes')"
   ]
  },
  {
   "cell_type": "code",
   "execution_count": 4,
   "id": "1131ed32",
   "metadata": {},
   "outputs": [
    {
     "name": "stdout",
     "output_type": "stream",
     "text": [
      "yes\n"
     ]
    }
   ],
   "source": [
    "if train.shape:\n",
    "    print('yes')"
   ]
  },
  {
   "cell_type": "code",
   "execution_count": 30,
   "id": "c539e0b8",
   "metadata": {},
   "outputs": [],
   "source": [
    "kn = KneeLocator(range(1,5),wcss,curve='convex',\n",
    "                        direction='decreasing')"
   ]
  },
  {
   "cell_type": "code",
   "execution_count": 31,
   "id": "1c397511",
   "metadata": {},
   "outputs": [
    {
     "data": {
      "text/plain": [
       "2"
      ]
     },
     "execution_count": 31,
     "metadata": {},
     "output_type": "execute_result"
    }
   ],
   "source": [
    "kn.knee"
   ]
  },
  {
   "cell_type": "code",
   "execution_count": 20,
   "id": "cf965169",
   "metadata": {},
   "outputs": [],
   "source": [
    "# kmean = KMeans(kn.knee,random_state=47)\n",
    "kmean = KMeans(100,random_state=47)"
   ]
  },
  {
   "cell_type": "code",
   "execution_count": 21,
   "id": "4f23d37e",
   "metadata": {},
   "outputs": [
    {
     "data": {
      "text/plain": [
       "KMeans(n_clusters=100, random_state=47)"
      ]
     },
     "execution_count": 21,
     "metadata": {},
     "output_type": "execute_result"
    }
   ],
   "source": [
    "kmean.fit(x_train)"
   ]
  },
  {
   "cell_type": "code",
   "execution_count": 22,
   "id": "3bd6a7a6",
   "metadata": {},
   "outputs": [],
   "source": [
    "labels = kmean.labels_"
   ]
  },
  {
   "cell_type": "code",
   "execution_count": 23,
   "id": "1ea634e2",
   "metadata": {},
   "outputs": [
    {
     "data": {
      "text/plain": [
       "array([56, 40, 10, ..., 64, 70, 58])"
      ]
     },
     "execution_count": 23,
     "metadata": {},
     "output_type": "execute_result"
    }
   ],
   "source": [
    "labels"
   ]
  },
  {
   "cell_type": "code",
   "execution_count": 24,
   "id": "a271fb02",
   "metadata": {},
   "outputs": [],
   "source": [
    "da = pd.DataFrame(labels,columns=['labels'])"
   ]
  },
  {
   "cell_type": "code",
   "execution_count": 36,
   "id": "4f060f96",
   "metadata": {},
   "outputs": [
    {
     "data": {
      "text/plain": [
       "81        1\n",
       "17        3\n",
       "68        4\n",
       "88        4\n",
       "25        4\n",
       "      ...  \n",
       "32    33774\n",
       "71    34266\n",
       "56    34370\n",
       "63    35176\n",
       "21    35775\n",
       "Name: labels, Length: 100, dtype: int64"
      ]
     },
     "execution_count": 36,
     "metadata": {},
     "output_type": "execute_result"
    }
   ],
   "source": [
    "da['labels'].value_counts(ascending=True)"
   ]
  },
  {
   "cell_type": "code",
   "execution_count": 40,
   "id": "77e32969",
   "metadata": {},
   "outputs": [],
   "source": [
    "df = pd.concat([train,da],axis=1)"
   ]
  },
  {
   "cell_type": "code",
   "execution_count": 41,
   "id": "f6c81b63",
   "metadata": {},
   "outputs": [
    {
     "data": {
      "text/plain": [
       "(838441, 10)"
      ]
     },
     "execution_count": 41,
     "metadata": {},
     "output_type": "execute_result"
    }
   ],
   "source": [
    "df.shape"
   ]
  },
  {
   "cell_type": "code",
   "execution_count": 42,
   "id": "f458eb82",
   "metadata": {},
   "outputs": [
    {
     "data": {
      "text/plain": [
       "(838441, 9)"
      ]
     },
     "execution_count": 42,
     "metadata": {},
     "output_type": "execute_result"
    }
   ],
   "source": [
    "train.shape"
   ]
  },
  {
   "cell_type": "code",
   "execution_count": 43,
   "id": "f584814a",
   "metadata": {},
   "outputs": [],
   "source": [
    "new_0 = df[df[\"labels\"]==0]"
   ]
  },
  {
   "cell_type": "code",
   "execution_count": 44,
   "id": "f102d85a",
   "metadata": {},
   "outputs": [],
   "source": [
    "new_1 = df[df['labels']==1]"
   ]
  },
  {
   "cell_type": "code",
   "execution_count": 45,
   "id": "58eaeb7a",
   "metadata": {},
   "outputs": [
    {
     "data": {
      "text/html": [
       "<div>\n",
       "<style scoped>\n",
       "    .dataframe tbody tr th:only-of-type {\n",
       "        vertical-align: middle;\n",
       "    }\n",
       "\n",
       "    .dataframe tbody tr th {\n",
       "        vertical-align: top;\n",
       "    }\n",
       "\n",
       "    .dataframe thead th {\n",
       "        text-align: right;\n",
       "    }\n",
       "</style>\n",
       "<table border=\"1\" class=\"dataframe\">\n",
       "  <thead>\n",
       "    <tr style=\"text-align: right;\">\n",
       "      <th></th>\n",
       "      <th>driver_tip</th>\n",
       "      <th>distance</th>\n",
       "      <th>num_passengers</th>\n",
       "      <th>toll_amount</th>\n",
       "      <th>payment_method</th>\n",
       "      <th>rate_code</th>\n",
       "      <th>extra_charges</th>\n",
       "      <th>total_amount</th>\n",
       "      <th>trip_duration</th>\n",
       "      <th>labels</th>\n",
       "    </tr>\n",
       "  </thead>\n",
       "  <tbody>\n",
       "    <tr>\n",
       "      <th>2292</th>\n",
       "      <td>0.00</td>\n",
       "      <td>0.92</td>\n",
       "      <td>1.0</td>\n",
       "      <td>0.0</td>\n",
       "      <td>2.0</td>\n",
       "      <td>1.0</td>\n",
       "      <td>0.0</td>\n",
       "      <td>9.30</td>\n",
       "      <td>52900.0</td>\n",
       "      <td>1</td>\n",
       "    </tr>\n",
       "    <tr>\n",
       "      <th>2810</th>\n",
       "      <td>3.36</td>\n",
       "      <td>4.05</td>\n",
       "      <td>1.0</td>\n",
       "      <td>0.0</td>\n",
       "      <td>1.0</td>\n",
       "      <td>1.0</td>\n",
       "      <td>0.0</td>\n",
       "      <td>20.16</td>\n",
       "      <td>86241.0</td>\n",
       "      <td>1</td>\n",
       "    </tr>\n",
       "    <tr>\n",
       "      <th>2910</th>\n",
       "      <td>4.20</td>\n",
       "      <td>4.15</td>\n",
       "      <td>1.0</td>\n",
       "      <td>0.0</td>\n",
       "      <td>1.0</td>\n",
       "      <td>1.0</td>\n",
       "      <td>1.0</td>\n",
       "      <td>21.00</td>\n",
       "      <td>85114.0</td>\n",
       "      <td>1</td>\n",
       "    </tr>\n",
       "    <tr>\n",
       "      <th>3814</th>\n",
       "      <td>1.66</td>\n",
       "      <td>0.95</td>\n",
       "      <td>1.0</td>\n",
       "      <td>0.0</td>\n",
       "      <td>1.0</td>\n",
       "      <td>1.0</td>\n",
       "      <td>0.0</td>\n",
       "      <td>9.96</td>\n",
       "      <td>84515.0</td>\n",
       "      <td>1</td>\n",
       "    </tr>\n",
       "    <tr>\n",
       "      <th>4830</th>\n",
       "      <td>3.00</td>\n",
       "      <td>2.26</td>\n",
       "      <td>1.0</td>\n",
       "      <td>0.0</td>\n",
       "      <td>1.0</td>\n",
       "      <td>1.0</td>\n",
       "      <td>0.0</td>\n",
       "      <td>19.30</td>\n",
       "      <td>84276.0</td>\n",
       "      <td>1</td>\n",
       "    </tr>\n",
       "    <tr>\n",
       "      <th>...</th>\n",
       "      <td>...</td>\n",
       "      <td>...</td>\n",
       "      <td>...</td>\n",
       "      <td>...</td>\n",
       "      <td>...</td>\n",
       "      <td>...</td>\n",
       "      <td>...</td>\n",
       "      <td>...</td>\n",
       "      <td>...</td>\n",
       "      <td>...</td>\n",
       "    </tr>\n",
       "    <tr>\n",
       "      <th>833148</th>\n",
       "      <td>0.00</td>\n",
       "      <td>2.94</td>\n",
       "      <td>1.0</td>\n",
       "      <td>0.0</td>\n",
       "      <td>1.0</td>\n",
       "      <td>1.0</td>\n",
       "      <td>0.5</td>\n",
       "      <td>13.80</td>\n",
       "      <td>86031.0</td>\n",
       "      <td>1</td>\n",
       "    </tr>\n",
       "    <tr>\n",
       "      <th>835062</th>\n",
       "      <td>0.00</td>\n",
       "      <td>2.92</td>\n",
       "      <td>1.0</td>\n",
       "      <td>0.0</td>\n",
       "      <td>2.0</td>\n",
       "      <td>1.0</td>\n",
       "      <td>0.0</td>\n",
       "      <td>16.80</td>\n",
       "      <td>86315.0</td>\n",
       "      <td>1</td>\n",
       "    </tr>\n",
       "    <tr>\n",
       "      <th>836163</th>\n",
       "      <td>0.00</td>\n",
       "      <td>0.57</td>\n",
       "      <td>1.0</td>\n",
       "      <td>0.0</td>\n",
       "      <td>2.0</td>\n",
       "      <td>1.0</td>\n",
       "      <td>1.0</td>\n",
       "      <td>8.30</td>\n",
       "      <td>85969.0</td>\n",
       "      <td>1</td>\n",
       "    </tr>\n",
       "    <tr>\n",
       "      <th>836283</th>\n",
       "      <td>0.00</td>\n",
       "      <td>0.82</td>\n",
       "      <td>2.0</td>\n",
       "      <td>0.0</td>\n",
       "      <td>2.0</td>\n",
       "      <td>1.0</td>\n",
       "      <td>0.0</td>\n",
       "      <td>8.80</td>\n",
       "      <td>83281.0</td>\n",
       "      <td>1</td>\n",
       "    </tr>\n",
       "    <tr>\n",
       "      <th>837243</th>\n",
       "      <td>2.68</td>\n",
       "      <td>8.01</td>\n",
       "      <td>2.0</td>\n",
       "      <td>0.0</td>\n",
       "      <td>1.0</td>\n",
       "      <td>1.0</td>\n",
       "      <td>0.5</td>\n",
       "      <td>29.48</td>\n",
       "      <td>85240.0</td>\n",
       "      <td>1</td>\n",
       "    </tr>\n",
       "  </tbody>\n",
       "</table>\n",
       "<p>1093 rows × 10 columns</p>\n",
       "</div>"
      ],
      "text/plain": [
       "        driver_tip  distance  num_passengers  toll_amount  payment_method  \\\n",
       "2292          0.00      0.92             1.0          0.0             2.0   \n",
       "2810          3.36      4.05             1.0          0.0             1.0   \n",
       "2910          4.20      4.15             1.0          0.0             1.0   \n",
       "3814          1.66      0.95             1.0          0.0             1.0   \n",
       "4830          3.00      2.26             1.0          0.0             1.0   \n",
       "...            ...       ...             ...          ...             ...   \n",
       "833148        0.00      2.94             1.0          0.0             1.0   \n",
       "835062        0.00      2.92             1.0          0.0             2.0   \n",
       "836163        0.00      0.57             1.0          0.0             2.0   \n",
       "836283        0.00      0.82             2.0          0.0             2.0   \n",
       "837243        2.68      8.01             2.0          0.0             1.0   \n",
       "\n",
       "        rate_code  extra_charges  total_amount  trip_duration  labels  \n",
       "2292          1.0            0.0          9.30        52900.0       1  \n",
       "2810          1.0            0.0         20.16        86241.0       1  \n",
       "2910          1.0            1.0         21.00        85114.0       1  \n",
       "3814          1.0            0.0          9.96        84515.0       1  \n",
       "4830          1.0            0.0         19.30        84276.0       1  \n",
       "...           ...            ...           ...            ...     ...  \n",
       "833148        1.0            0.5         13.80        86031.0       1  \n",
       "835062        1.0            0.0         16.80        86315.0       1  \n",
       "836163        1.0            1.0          8.30        85969.0       1  \n",
       "836283        1.0            0.0          8.80        83281.0       1  \n",
       "837243        1.0            0.5         29.48        85240.0       1  \n",
       "\n",
       "[1093 rows x 10 columns]"
      ]
     },
     "execution_count": 45,
     "metadata": {},
     "output_type": "execute_result"
    }
   ],
   "source": [
    "new_1"
   ]
  },
  {
   "cell_type": "code",
   "execution_count": 46,
   "id": "aa1a9c53",
   "metadata": {},
   "outputs": [],
   "source": [
    "x_0 = new_0.drop([\"total_amount\",'labels'],axis=1)\n",
    "y_0 = new_0['total_amount']"
   ]
  },
  {
   "cell_type": "code",
   "execution_count": 47,
   "id": "3a76572f",
   "metadata": {},
   "outputs": [
    {
     "data": {
      "text/plain": [
       "0          9.96\n",
       "1         17.85\n",
       "2         12.36\n",
       "3         63.56\n",
       "4          7.55\n",
       "          ...  \n",
       "838436    52.27\n",
       "838437    15.80\n",
       "838438     5.83\n",
       "838439    15.95\n",
       "838440    15.80\n",
       "Name: total_amount, Length: 837348, dtype: float64"
      ]
     },
     "execution_count": 47,
     "metadata": {},
     "output_type": "execute_result"
    }
   ],
   "source": [
    "y_0"
   ]
  },
  {
   "cell_type": "code",
   "execution_count": 38,
   "id": "053d3990",
   "metadata": {},
   "outputs": [
    {
     "data": {
      "text/plain": [
       "XGBRegressor(base_score=None, booster=None, callbacks=None,\n",
       "             colsample_bylevel=None, colsample_bynode=None,\n",
       "             colsample_bytree=None, early_stopping_rounds=None,\n",
       "             enable_categorical=False, eval_metric=None, gamma=None,\n",
       "             gpu_id=None, grow_policy=None, importance_type=None,\n",
       "             interaction_constraints=None, learning_rate=0.025, max_bin=None,\n",
       "             max_cat_to_onehot=None, max_delta_step=None, max_depth=8,\n",
       "             max_leaves=None, min_child_weight=None, missing=nan,\n",
       "             monotone_constraints=None, n_estimators=750, n_jobs=None,\n",
       "             num_parallel_tree=None, predictor=None, random_state=42,\n",
       "             reg_alpha=None, reg_lambda=None, ...)"
      ]
     },
     "execution_count": 38,
     "metadata": {},
     "output_type": "execute_result"
    }
   ],
   "source": [
    "params = {\"max_depth\":8, \"n_estimators\": 750, \"learning_rate\": 0.025,\"random_state\":42}\n",
    "model = xgb.XGBRegressor(**params)\n",
    "model"
   ]
  },
  {
   "cell_type": "code",
   "execution_count": 78,
   "id": "19a8d5d7",
   "metadata": {},
   "outputs": [
    {
     "data": {
      "text/plain": [
       "XGBRegressor(base_score=0.5, booster='gbtree', callbacks=None,\n",
       "             colsample_bylevel=1, colsample_bynode=1, colsample_bytree=1,\n",
       "             early_stopping_rounds=None, enable_categorical=False,\n",
       "             eval_metric=None, gamma=0, gpu_id=-1, grow_policy='depthwise',\n",
       "             importance_type=None, interaction_constraints='',\n",
       "             learning_rate=0.025, max_bin=256, max_cat_to_onehot=4,\n",
       "             max_delta_step=0, max_depth=8, max_leaves=0, min_child_weight=1,\n",
       "             missing=nan, monotone_constraints='()', n_estimators=750, n_jobs=0,\n",
       "             num_parallel_tree=1, predictor='auto', random_state=42,\n",
       "             reg_alpha=0, reg_lambda=1, ...)"
      ]
     },
     "execution_count": 78,
     "metadata": {},
     "output_type": "execute_result"
    }
   ],
   "source": [
    "model = xgb.XGBRegressor(max_depth=8, n_estimators = 750, learning_rate= 0.025,random_state=42)\n",
    "model.fit(x_0,y_0)"
   ]
  },
  {
   "cell_type": "code",
   "execution_count": 80,
   "id": "d3d0bc28",
   "metadata": {},
   "outputs": [],
   "source": [
    "test1 = pd.read_csv(\"valid.csv\")\n",
    "test = test.drop(\"total_amount\",axis=1)\n",
    "test_labels = kmean.predict(test)"
   ]
  },
  {
   "cell_type": "code",
   "execution_count": 81,
   "id": "3eaaaa1b",
   "metadata": {},
   "outputs": [],
   "source": [
    "da = pd.DataFrame(test_labels,columns=['label'])"
   ]
  },
  {
   "cell_type": "code",
   "execution_count": 82,
   "id": "b28c16e3",
   "metadata": {},
   "outputs": [],
   "source": [
    "testco = pd.concat([test,da],axis=1)"
   ]
  },
  {
   "cell_type": "code",
   "execution_count": 83,
   "id": "69b2cbc1",
   "metadata": {
    "scrolled": true
   },
   "outputs": [
    {
     "data": {
      "text/html": [
       "<div>\n",
       "<style scoped>\n",
       "    .dataframe tbody tr th:only-of-type {\n",
       "        vertical-align: middle;\n",
       "    }\n",
       "\n",
       "    .dataframe tbody tr th {\n",
       "        vertical-align: top;\n",
       "    }\n",
       "\n",
       "    .dataframe thead th {\n",
       "        text-align: right;\n",
       "    }\n",
       "</style>\n",
       "<table border=\"1\" class=\"dataframe\">\n",
       "  <thead>\n",
       "    <tr style=\"text-align: right;\">\n",
       "      <th></th>\n",
       "      <th>driver_tip</th>\n",
       "      <th>distance</th>\n",
       "      <th>num_passengers</th>\n",
       "      <th>toll_amount</th>\n",
       "      <th>payment_method</th>\n",
       "      <th>rate_code</th>\n",
       "      <th>extra_charges</th>\n",
       "      <th>trip_duration</th>\n",
       "      <th>label</th>\n",
       "    </tr>\n",
       "  </thead>\n",
       "  <tbody>\n",
       "    <tr>\n",
       "      <th>0</th>\n",
       "      <td>0.00</td>\n",
       "      <td>1.27</td>\n",
       "      <td>4.0</td>\n",
       "      <td>0.0</td>\n",
       "      <td>2.0</td>\n",
       "      <td>1.0</td>\n",
       "      <td>0.0</td>\n",
       "      <td>466.0</td>\n",
       "      <td>0</td>\n",
       "    </tr>\n",
       "    <tr>\n",
       "      <th>1</th>\n",
       "      <td>1.92</td>\n",
       "      <td>2.60</td>\n",
       "      <td>1.0</td>\n",
       "      <td>0.0</td>\n",
       "      <td>1.0</td>\n",
       "      <td>1.0</td>\n",
       "      <td>0.0</td>\n",
       "      <td>832.0</td>\n",
       "      <td>0</td>\n",
       "    </tr>\n",
       "    <tr>\n",
       "      <th>2</th>\n",
       "      <td>0.00</td>\n",
       "      <td>0.50</td>\n",
       "      <td>1.0</td>\n",
       "      <td>0.0</td>\n",
       "      <td>2.0</td>\n",
       "      <td>1.0</td>\n",
       "      <td>0.5</td>\n",
       "      <td>91.0</td>\n",
       "      <td>0</td>\n",
       "    </tr>\n",
       "    <tr>\n",
       "      <th>3</th>\n",
       "      <td>1.15</td>\n",
       "      <td>0.50</td>\n",
       "      <td>1.0</td>\n",
       "      <td>0.0</td>\n",
       "      <td>1.0</td>\n",
       "      <td>1.0</td>\n",
       "      <td>1.0</td>\n",
       "      <td>157.0</td>\n",
       "      <td>0</td>\n",
       "    </tr>\n",
       "    <tr>\n",
       "      <th>4</th>\n",
       "      <td>5.00</td>\n",
       "      <td>3.50</td>\n",
       "      <td>1.0</td>\n",
       "      <td>0.0</td>\n",
       "      <td>1.0</td>\n",
       "      <td>1.0</td>\n",
       "      <td>0.0</td>\n",
       "      <td>1002.0</td>\n",
       "      <td>0</td>\n",
       "    </tr>\n",
       "    <tr>\n",
       "      <th>...</th>\n",
       "      <td>...</td>\n",
       "      <td>...</td>\n",
       "      <td>...</td>\n",
       "      <td>...</td>\n",
       "      <td>...</td>\n",
       "      <td>...</td>\n",
       "      <td>...</td>\n",
       "      <td>...</td>\n",
       "      <td>...</td>\n",
       "    </tr>\n",
       "    <tr>\n",
       "      <th>209606</th>\n",
       "      <td>0.00</td>\n",
       "      <td>0.71</td>\n",
       "      <td>1.0</td>\n",
       "      <td>0.0</td>\n",
       "      <td>2.0</td>\n",
       "      <td>1.0</td>\n",
       "      <td>0.5</td>\n",
       "      <td>160.0</td>\n",
       "      <td>0</td>\n",
       "    </tr>\n",
       "    <tr>\n",
       "      <th>209607</th>\n",
       "      <td>1.00</td>\n",
       "      <td>0.70</td>\n",
       "      <td>1.0</td>\n",
       "      <td>0.0</td>\n",
       "      <td>1.0</td>\n",
       "      <td>1.0</td>\n",
       "      <td>0.0</td>\n",
       "      <td>356.0</td>\n",
       "      <td>0</td>\n",
       "    </tr>\n",
       "    <tr>\n",
       "      <th>209608</th>\n",
       "      <td>2.85</td>\n",
       "      <td>0.90</td>\n",
       "      <td>1.0</td>\n",
       "      <td>0.0</td>\n",
       "      <td>1.0</td>\n",
       "      <td>1.0</td>\n",
       "      <td>0.0</td>\n",
       "      <td>1308.0</td>\n",
       "      <td>0</td>\n",
       "    </tr>\n",
       "    <tr>\n",
       "      <th>209609</th>\n",
       "      <td>0.00</td>\n",
       "      <td>4.06</td>\n",
       "      <td>1.0</td>\n",
       "      <td>0.0</td>\n",
       "      <td>1.0</td>\n",
       "      <td>1.0</td>\n",
       "      <td>0.5</td>\n",
       "      <td>1047.0</td>\n",
       "      <td>0</td>\n",
       "    </tr>\n",
       "    <tr>\n",
       "      <th>209610</th>\n",
       "      <td>3.45</td>\n",
       "      <td>1.90</td>\n",
       "      <td>1.0</td>\n",
       "      <td>0.0</td>\n",
       "      <td>1.0</td>\n",
       "      <td>1.0</td>\n",
       "      <td>0.0</td>\n",
       "      <td>1615.0</td>\n",
       "      <td>0</td>\n",
       "    </tr>\n",
       "  </tbody>\n",
       "</table>\n",
       "<p>209611 rows × 9 columns</p>\n",
       "</div>"
      ],
      "text/plain": [
       "        driver_tip  distance  num_passengers  toll_amount  payment_method  \\\n",
       "0             0.00      1.27             4.0          0.0             2.0   \n",
       "1             1.92      2.60             1.0          0.0             1.0   \n",
       "2             0.00      0.50             1.0          0.0             2.0   \n",
       "3             1.15      0.50             1.0          0.0             1.0   \n",
       "4             5.00      3.50             1.0          0.0             1.0   \n",
       "...            ...       ...             ...          ...             ...   \n",
       "209606        0.00      0.71             1.0          0.0             2.0   \n",
       "209607        1.00      0.70             1.0          0.0             1.0   \n",
       "209608        2.85      0.90             1.0          0.0             1.0   \n",
       "209609        0.00      4.06             1.0          0.0             1.0   \n",
       "209610        3.45      1.90             1.0          0.0             1.0   \n",
       "\n",
       "        rate_code  extra_charges  trip_duration  label  \n",
       "0             1.0            0.0          466.0      0  \n",
       "1             1.0            0.0          832.0      0  \n",
       "2             1.0            0.5           91.0      0  \n",
       "3             1.0            1.0          157.0      0  \n",
       "4             1.0            0.0         1002.0      0  \n",
       "...           ...            ...            ...    ...  \n",
       "209606        1.0            0.5          160.0      0  \n",
       "209607        1.0            0.0          356.0      0  \n",
       "209608        1.0            0.0         1308.0      0  \n",
       "209609        1.0            0.5         1047.0      0  \n",
       "209610        1.0            0.0         1615.0      0  \n",
       "\n",
       "[209611 rows x 9 columns]"
      ]
     },
     "execution_count": 83,
     "metadata": {},
     "output_type": "execute_result"
    }
   ],
   "source": [
    "testco"
   ]
  },
  {
   "cell_type": "code",
   "execution_count": 84,
   "id": "49453f7b",
   "metadata": {},
   "outputs": [],
   "source": [
    "xtest0 = testco[testco['label']==0]"
   ]
  },
  {
   "cell_type": "code",
   "execution_count": 85,
   "id": "119da1f0",
   "metadata": {},
   "outputs": [],
   "source": [
    "x_pred = xtest0.drop('label',axis=1)"
   ]
  },
  {
   "cell_type": "code",
   "execution_count": 88,
   "id": "875455f2",
   "metadata": {},
   "outputs": [
    {
     "data": {
      "text/plain": [
       "((209333, 8), (209611, 9))"
      ]
     },
     "execution_count": 88,
     "metadata": {},
     "output_type": "execute_result"
    }
   ],
   "source": [
    "x_pred.shape,test1.shape"
   ]
  },
  {
   "cell_type": "code",
   "execution_count": 96,
   "id": "bf32ce66",
   "metadata": {},
   "outputs": [
    {
     "data": {
      "text/plain": [
       "(209333, 9)"
      ]
     },
     "execution_count": 96,
     "metadata": {},
     "output_type": "execute_result"
    }
   ],
   "source": [
    "x_pred_test = test1.loc[x_pred.index,:]\n",
    "x_pred_test.shape"
   ]
  },
  {
   "cell_type": "code",
   "execution_count": 97,
   "id": "88d99f32",
   "metadata": {},
   "outputs": [],
   "source": [
    "y_true = x_pred_test['total_amount']"
   ]
  },
  {
   "cell_type": "code",
   "execution_count": 98,
   "id": "770911dd",
   "metadata": {},
   "outputs": [],
   "source": [
    "y_pred = model.predict(x_pred_test.drop(['total_amount'],axis=1))"
   ]
  },
  {
   "cell_type": "code",
   "execution_count": 103,
   "id": "37487e98",
   "metadata": {
    "scrolled": true
   },
   "outputs": [
    {
     "data": {
      "text/plain": [
       "209333"
      ]
     },
     "execution_count": 103,
     "metadata": {},
     "output_type": "execute_result"
    }
   ],
   "source": [
    "len(y_true)"
   ]
  },
  {
   "cell_type": "code",
   "execution_count": 102,
   "id": "d3dc1741",
   "metadata": {},
   "outputs": [
    {
     "data": {
      "text/plain": [
       "209333"
      ]
     },
     "execution_count": 102,
     "metadata": {},
     "output_type": "execute_result"
    }
   ],
   "source": [
    "len(y_pred)"
   ]
  },
  {
   "cell_type": "code",
   "execution_count": 104,
   "id": "8c7f78ba",
   "metadata": {},
   "outputs": [
    {
     "data": {
      "text/plain": [
       "0.40701752239436184"
      ]
     },
     "execution_count": 104,
     "metadata": {},
     "output_type": "execute_result"
    }
   ],
   "source": [
    "from sklearn.metrics import mean_absolute_error\n",
    "mean_absolute_error(y_true,y_pred)"
   ]
  },
  {
   "cell_type": "code",
   "execution_count": null,
   "id": "cf6ffee5",
   "metadata": {},
   "outputs": [],
   "source": []
  },
  {
   "cell_type": "code",
   "execution_count": null,
   "id": "c9864161",
   "metadata": {},
   "outputs": [],
   "source": []
  },
  {
   "cell_type": "code",
   "execution_count": null,
   "id": "63f09d73",
   "metadata": {},
   "outputs": [],
   "source": []
  },
  {
   "cell_type": "code",
   "execution_count": 76,
   "id": "7bba9ebf",
   "metadata": {},
   "outputs": [],
   "source": [
    "model1 = GradientBoostingRegressor(n_estimators=10,\n",
    "    max_leaf_nodes= 20,\n",
    "    learning_rate=0.2,\n",
    "    max_depth=4)"
   ]
  },
  {
   "cell_type": "code",
   "execution_count": 77,
   "id": "7b9cd72f",
   "metadata": {},
   "outputs": [
    {
     "data": {
      "text/plain": [
       "GradientBoostingRegressor(learning_rate=0.2, max_depth=4, max_leaf_nodes=20,\n",
       "                          n_estimators=10)"
      ]
     },
     "execution_count": 77,
     "metadata": {},
     "output_type": "execute_result"
    }
   ],
   "source": [
    "model1.fit(x_0,y_0)"
   ]
  },
  {
   "cell_type": "code",
   "execution_count": 105,
   "id": "00308121",
   "metadata": {},
   "outputs": [],
   "source": [
    "y_pred = model1.predict(x_pred_test.drop(['total_amount'],axis=1))"
   ]
  },
  {
   "cell_type": "code",
   "execution_count": 106,
   "id": "acf8da8d",
   "metadata": {},
   "outputs": [
    {
     "data": {
      "text/plain": [
       "1.5028269013025404"
      ]
     },
     "execution_count": 106,
     "metadata": {},
     "output_type": "execute_result"
    }
   ],
   "source": [
    "mean_absolute_error(y_true,y_pred)"
   ]
  },
  {
   "cell_type": "code",
   "execution_count": 74,
   "id": "813c9c37",
   "metadata": {},
   "outputs": [],
   "source": [
    "model2 = lgb.LGBMRegressor(task=\"train\",\n",
    "    boosting_type= \"gbdt\",\n",
    "    objective= \"regression\",\n",
    "    learning_rate= 0.005,\n",
    "    feature_fraction= 0.9,\n",
    "    bagging_fraction= 0.7,\n",
    "    bagging_freq=10,\n",
    "    verbose= 0,\n",
    "    max_depth= 8,\n",
    "    num_leaves= 128,  \n",
    "    max_bin= 512,\n",
    "    num_iterations= 100)"
   ]
  },
  {
   "cell_type": "code",
   "execution_count": 75,
   "id": "9842f7a3",
   "metadata": {},
   "outputs": [
    {
     "name": "stderr",
     "output_type": "stream",
     "text": [
      "C:\\Users\\sande\\anaconda3\\envs\\mach\\lib\\site-packages\\lightgbm\\engine.py:177: UserWarning: Found `num_iterations` in params. Will use it instead of argument\n",
      "  _log_warning(f\"Found `{alias}` in params. Will use it instead of argument\")\n"
     ]
    },
    {
     "name": "stdout",
     "output_type": "stream",
     "text": [
      "[LightGBM] [Warning] feature_fraction is set=0.9, colsample_bytree=1.0 will be ignored. Current value: feature_fraction=0.9\n",
      "[LightGBM] [Warning] bagging_fraction is set=0.7, subsample=1.0 will be ignored. Current value: bagging_fraction=0.7\n",
      "[LightGBM] [Warning] bagging_freq is set=10, subsample_freq=0 will be ignored. Current value: bagging_freq=10\n",
      "[LightGBM] [Warning] feature_fraction is set=0.9, colsample_bytree=1.0 will be ignored. Current value: feature_fraction=0.9\n",
      "[LightGBM] [Warning] bagging_fraction is set=0.7, subsample=1.0 will be ignored. Current value: bagging_fraction=0.7\n",
      "[LightGBM] [Warning] bagging_freq is set=10, subsample_freq=0 will be ignored. Current value: bagging_freq=10\n",
      "[LightGBM] [Warning] Auto-choosing row-wise multi-threading, the overhead of testing was 0.037102 seconds.\n",
      "You can set `force_row_wise=true` to remove the overhead.\n",
      "And if memory is not enough, you can set `force_col_wise=true`.\n"
     ]
    },
    {
     "data": {
      "text/plain": [
       "LGBMRegressor(bagging_fraction=0.7, bagging_freq=10, feature_fraction=0.9,\n",
       "              learning_rate=0.005, max_bin=512, max_depth=8, num_iterations=100,\n",
       "              num_leaves=128, objective='regression', task='train', verbose=0)"
      ]
     },
     "execution_count": 75,
     "metadata": {},
     "output_type": "execute_result"
    }
   ],
   "source": [
    "model2.fit(x_0,y_0)"
   ]
  },
  {
   "cell_type": "code",
   "execution_count": 107,
   "id": "02b539a9",
   "metadata": {},
   "outputs": [],
   "source": [
    "y_pred = model2.predict(x_pred_test.drop(['total_amount'],axis=1))"
   ]
  },
  {
   "cell_type": "code",
   "execution_count": 108,
   "id": "c5d3a1df",
   "metadata": {},
   "outputs": [
    {
     "data": {
      "text/plain": [
       "5.423408347286484"
      ]
     },
     "execution_count": 108,
     "metadata": {},
     "output_type": "execute_result"
    }
   ],
   "source": [
    "mean_absolute_error(y_true,y_pred)"
   ]
  },
  {
   "cell_type": "code",
   "execution_count": null,
   "id": "cf2ee7ba",
   "metadata": {},
   "outputs": [],
   "source": []
  }
 ],
 "metadata": {
  "kernelspec": {
   "display_name": "Python 3 (ipykernel)",
   "language": "python",
   "name": "python3"
  },
  "language_info": {
   "codemirror_mode": {
    "name": "ipython",
    "version": 3
   },
   "file_extension": ".py",
   "mimetype": "text/x-python",
   "name": "python",
   "nbconvert_exporter": "python",
   "pygments_lexer": "ipython3",
   "version": "3.7.13"
  }
 },
 "nbformat": 4,
 "nbformat_minor": 5
}
